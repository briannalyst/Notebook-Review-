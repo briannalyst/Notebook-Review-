{
  "metadata": {
    "kernelspec": {
      "name": "python",
      "display_name": "Pyolite",
      "language": "python"
    },
    "language_info": {
      "codemirror_mode": {
        "name": "python",
        "version": 3
      },
      "file_extension": ".py",
      "mimetype": "text/x-python",
      "name": "python",
      "nbconvert_exporter": "python",
      "pygments_lexer": "ipython3",
      "version": "3.8"
    }
  },
  "nbformat_minor": 4,
  "nbformat": 4,
  "cells": [
    {
      "cell_type": "markdown",
      "source": "<center>\n    <img src=\"https://cf-courses-data.s3.us.cloud-object-storage.appdomain.cloud/IBMDeveloperSkillsNetwork-DS0105EN-SkillsNetwork/labs/Module2/images/SN_web_lightmode.png\" width=\"300\" alt=\"cognitiveclass.ai logo\"  />\n</center>\n",
      "metadata": {}
    },
    {
      "cell_type": "markdown",
      "source": "# My Jupyter Notebook on IBM Watson Studio",
      "metadata": {}
    },
    {
      "cell_type": "markdown",
      "source": "<b>Brianna Pitocchelli</b>\n\nMy current occupation is in Hospitality but my preferred future career is Data Science in the Linguistics fields. ",
      "metadata": {}
    },
    {
      "cell_type": "markdown",
      "source": "*I am interested in data science because I love puzzles and problem solving. I would love to be presented with a problem, be able to fix it and deliver the solutions to a large company to truly make a difference in the industry.*",
      "metadata": {}
    },
    {
      "cell_type": "markdown",
      "source": "### The code in cell 5 is supposed to add numbers together using code so it can be executed and displayed. ",
      "metadata": {}
    },
    {
      "cell_type": "code",
      "source": "12+12",
      "metadata": {
        "trusted": true
      },
      "execution_count": 4,
      "outputs": [
        {
          "execution_count": 4,
          "output_type": "execute_result",
          "data": {
            "text/plain": "24"
          },
          "metadata": {}
        }
      ]
    },
    {
      "cell_type": "markdown",
      "source": "~~strikethrough~~ \n\n* bulleted \n* list \n\n| Making | A | Table \n| --- | --- | ---|\n| 1 | 2 | 3 |\n| A | B | C |\n",
      "metadata": {}
    }
  ]
}